{
 "cells": [
  {
   "cell_type": "code",
   "execution_count": 4,
   "metadata": {},
   "outputs": [
    {
     "name": "stderr",
     "output_type": "stream",
     "text": [
      "100%|██████████| 8/8 [00:00<00:00, 16.95it/s]\n"
     ]
    },
    {
     "data": {
      "text/plain": [
       "'magic_scissors_2024-01-05_10-48'"
      ]
     },
     "execution_count": 4,
     "metadata": {},
     "output_type": "execute_result"
    }
   ],
   "source": [
    "import scissors2\n",
    "from scissors2 import MagicScissors\n",
    "\n",
    "\n",
    "data = MagicScissors(\n",
    "    dataset_size=4,\n",
    "    min_objects_per_image=1,\n",
    "    max_objects_per_image=3,\n",
    "    min_size_variance=2,\n",
    "    max_size_variance=5,\n",
    "    annotate_occlusion=0,\n",
    "    working_dir=\"./\",\n",
    "    upload_to_roboflow=False,\n",
    "    roboflow_api_key=\"\",\n",
    "    roboflow_workspace=\"\",\n",
    "    roboflow_project=\"\",\n",
    ")\n",
    "\n",
    "# load data from COCO JSON files\n",
    "'''data.load_backgrounds_from_coco()\n",
    "data.load_objects_of_interest_from_coco()'''\n",
    "\n",
    "# load data from Roboflow\n",
    "data.download_objects_of_interest_from_roboflow(\n",
    "    url=\"https://universe.roboflow.com/wastetide/objects-of-interest-public/2\"\n",
    ")\n",
    "data.download_backgrounds_from_roboflow(\n",
    "    url=\"https://app.roboflow.com/wastetide/backgrounds-scswq/1\"\n",
    ")\n",
    "\n",
    "# generate dataset and save to directory\n",
    "data.generate_dataset()"
   ]
  },
  {
   "cell_type": "code",
   "execution_count": 3,
   "metadata": {},
   "outputs": [
    {
     "name": "stderr",
     "output_type": "stream",
     "text": [
      "100%|██████████| 800/800 [03:04<00:00,  4.34it/s]\n"
     ]
    },
    {
     "data": {
      "text/plain": [
       "'magic_scissors_2024-01-03_18-18'"
      ]
     },
     "execution_count": 57,
     "metadata": {},
     "output_type": "execute_result"
    },
    {
     "name": "stderr",
     "output_type": "stream",
     "text": [
      "  0%|          | 0/8 [00:00<?, ?it/s]"
     ]
    },
    {
     "name": "stderr",
     "output_type": "stream",
     "text": [
      " 27%|██▋       | 219/800 [00:56<02:28,  3.91it/s]\n"
     ]
    },
    {
     "ename": "KeyboardInterrupt",
     "evalue": "",
     "output_type": "error",
     "traceback": [
      "\u001b[0;31m---------------------------------------------------------------------------\u001b[0m",
      "\u001b[0;31mKeyboardInterrupt\u001b[0m                         Traceback (most recent call last)",
      "Cell \u001b[0;32mIn[3], line 27\u001b[0m\n\u001b[1;32m     22\u001b[0m data\u001b[38;5;241m.\u001b[39mdownload_backgrounds_from_roboflow(\n\u001b[1;32m     23\u001b[0m     url\u001b[38;5;241m=\u001b[39m\u001b[38;5;124m\"\u001b[39m\u001b[38;5;124mhttps://app.roboflow.com/wastetide/backgrounds-scswq/1\u001b[39m\u001b[38;5;124m\"\u001b[39m\n\u001b[1;32m     24\u001b[0m )\n\u001b[1;32m     26\u001b[0m \u001b[38;5;66;03m# generate dataset and save to directory\u001b[39;00m\n\u001b[0;32m---> 27\u001b[0m \u001b[43mdata\u001b[49m\u001b[38;5;241;43m.\u001b[39;49m\u001b[43mgenerate_dataset\u001b[49m\u001b[43m(\u001b[49m\u001b[43m)\u001b[49m\n",
      "File \u001b[0;32m~/Desktop/Algo Wastetide/Roboflow_generator/scissors2.py:451\u001b[0m, in \u001b[0;36mMagicScissors.generate_dataset\u001b[0;34m(self)\u001b[0m\n\u001b[1;32m    448\u001b[0m         \u001b[38;5;28;01mif\u001b[39;00m annotation[\u001b[38;5;124m\"\u001b[39m\u001b[38;5;124msegmentation\u001b[39m\u001b[38;5;124m\"\u001b[39m] \u001b[38;5;241m==\u001b[39m []:\n\u001b[1;32m    449\u001b[0m             \u001b[38;5;66;03m#we erase annotations with such a bbox\u001b[39;00m\n\u001b[1;32m    450\u001b[0m             annotations[\u001b[38;5;124m\"\u001b[39m\u001b[38;5;124mannotations\u001b[39m\u001b[38;5;124m\"\u001b[39m]\u001b[38;5;241m.\u001b[39mremove(annotation)\n\u001b[0;32m--> 451\u001b[0m     json\u001b[38;5;241m.\u001b[39mdump(\u001b[43mgenerated_image\u001b[49m\u001b[38;5;241;43m.\u001b[39;49m\u001b[43mto_coco_json\u001b[49m\u001b[43m(\u001b[49m\u001b[43m)\u001b[49m, f)\n\u001b[1;32m    453\u001b[0m kwargs \u001b[38;5;241m=\u001b[39m {\n\u001b[1;32m    454\u001b[0m     \u001b[38;5;124m\"\u001b[39m\u001b[38;5;124mimage_path\u001b[39m\u001b[38;5;124m\"\u001b[39m: base_name \u001b[38;5;241m+\u001b[39m \u001b[38;5;124m\"\u001b[39m\u001b[38;5;124m.jpg\u001b[39m\u001b[38;5;124m\"\u001b[39m,\n\u001b[1;32m    455\u001b[0m     \u001b[38;5;124m\"\u001b[39m\u001b[38;5;124mannotation_path\u001b[39m\u001b[38;5;124m\"\u001b[39m: base_name \u001b[38;5;241m+\u001b[39m \u001b[38;5;124m\"\u001b[39m\u001b[38;5;124m.json\u001b[39m\u001b[38;5;124m\"\u001b[39m,\n\u001b[1;32m    456\u001b[0m     \u001b[38;5;124m\"\u001b[39m\u001b[38;5;124mbatch_name\u001b[39m\u001b[38;5;124m\"\u001b[39m: batch_name,\n\u001b[1;32m    457\u001b[0m     \u001b[38;5;124m\"\u001b[39m\u001b[38;5;124mtag_names\u001b[39m\u001b[38;5;124m\"\u001b[39m: [batch_name],\n\u001b[1;32m    458\u001b[0m }\n\u001b[1;32m    460\u001b[0m \u001b[38;5;28;01mif\u001b[39;00m \u001b[38;5;28mself\u001b[39m\u001b[38;5;241m.\u001b[39mupload_to_roboflow:\n",
      "File \u001b[0;32m~/Desktop/Algo Wastetide/Roboflow_generator/scissors2.py:118\u001b[0m, in \u001b[0;36mGeneratedImage.to_coco_json\u001b[0;34m(self)\u001b[0m\n\u001b[1;32m    116\u001b[0m \u001b[38;5;28;01mif\u001b[39;00m \u001b[38;5;129;01mnot\u001b[39;00m \u001b[38;5;28mself\u001b[39m\u001b[38;5;241m.\u001b[39mannotate_occlusion:\n\u001b[1;32m    117\u001b[0m     \u001b[38;5;28;01mfor\u001b[39;00m j \u001b[38;5;129;01min\u001b[39;00m \u001b[38;5;28mrange\u001b[39m(i \u001b[38;5;241m+\u001b[39m \u001b[38;5;241m1\u001b[39m, \u001b[38;5;28mlen\u001b[39m(\u001b[38;5;28mself\u001b[39m\u001b[38;5;241m.\u001b[39mannotations)):\n\u001b[0;32m--> 118\u001b[0m         other_polygon \u001b[38;5;241m=\u001b[39m \u001b[43mPolygon\u001b[49m\u001b[43m(\u001b[49m\u001b[38;5;28;43mself\u001b[39;49m\u001b[38;5;241;43m.\u001b[39;49m\u001b[43mannotations\u001b[49m\u001b[43m[\u001b[49m\u001b[43mj\u001b[49m\u001b[43m]\u001b[49m\u001b[43m[\u001b[49m\u001b[38;5;124;43m\"\u001b[39;49m\u001b[38;5;124;43mpolygon\u001b[39;49m\u001b[38;5;124;43m\"\u001b[39;49m\u001b[43m]\u001b[49m\u001b[43m)\u001b[49m\n\u001b[1;32m    119\u001b[0m         polygon \u001b[38;5;241m=\u001b[39m polygon\u001b[38;5;241m.\u001b[39mdifference(other_polygon)\n\u001b[1;32m    121\u001b[0m minx, miny, maxx, maxy \u001b[38;5;241m=\u001b[39m polygon\u001b[38;5;241m.\u001b[39mbounds\n",
      "File \u001b[0;32m~/Desktop/Algo Wastetide/Roboflow_generator/venv/lib/python3.11/site-packages/shapely/geometry/polygon.py:230\u001b[0m, in \u001b[0;36mPolygon.__new__\u001b[0;34m(self, shell, holes)\u001b[0m\n\u001b[1;32m    228\u001b[0m     \u001b[38;5;28;01mreturn\u001b[39;00m shell\n\u001b[1;32m    229\u001b[0m \u001b[38;5;28;01melse\u001b[39;00m:\n\u001b[0;32m--> 230\u001b[0m     shell \u001b[38;5;241m=\u001b[39m \u001b[43mLinearRing\u001b[49m\u001b[43m(\u001b[49m\u001b[43mshell\u001b[49m\u001b[43m)\u001b[49m\n\u001b[1;32m    232\u001b[0m \u001b[38;5;28;01mif\u001b[39;00m holes \u001b[38;5;129;01mis\u001b[39;00m \u001b[38;5;129;01mnot\u001b[39;00m \u001b[38;5;28;01mNone\u001b[39;00m:\n\u001b[1;32m    233\u001b[0m     \u001b[38;5;28;01mif\u001b[39;00m \u001b[38;5;28mlen\u001b[39m(holes) \u001b[38;5;241m==\u001b[39m \u001b[38;5;241m0\u001b[39m:\n\u001b[1;32m    234\u001b[0m         \u001b[38;5;66;03m# shapely constructor cannot handle holes=[]\u001b[39;00m\n",
      "File \u001b[0;32m~/Desktop/Algo Wastetide/Roboflow_generator/venv/lib/python3.11/site-packages/shapely/geometry/polygon.py:93\u001b[0m, in \u001b[0;36mLinearRing.__new__\u001b[0;34m(self, coordinates)\u001b[0m\n\u001b[1;32m     90\u001b[0m     \u001b[38;5;28;01melse\u001b[39;00m:\n\u001b[1;32m     91\u001b[0m         \u001b[38;5;28;01mreturn\u001b[39;00m [\u001b[38;5;28mfloat\u001b[39m(c) \u001b[38;5;28;01mfor\u001b[39;00m c \u001b[38;5;129;01min\u001b[39;00m o]\n\u001b[0;32m---> 93\u001b[0m coordinates \u001b[38;5;241m=\u001b[39m np\u001b[38;5;241m.\u001b[39marray(\u001b[43m[\u001b[49m\u001b[43m_coords\u001b[49m\u001b[43m(\u001b[49m\u001b[43mo\u001b[49m\u001b[43m)\u001b[49m\u001b[43m \u001b[49m\u001b[38;5;28;43;01mfor\u001b[39;49;00m\u001b[43m \u001b[49m\u001b[43mo\u001b[49m\u001b[43m \u001b[49m\u001b[38;5;129;43;01min\u001b[39;49;00m\u001b[43m \u001b[49m\u001b[43mcoordinates\u001b[49m\u001b[43m]\u001b[49m)\n\u001b[1;32m     94\u001b[0m \u001b[38;5;28;01mif\u001b[39;00m \u001b[38;5;129;01mnot\u001b[39;00m np\u001b[38;5;241m.\u001b[39missubdtype(coordinates\u001b[38;5;241m.\u001b[39mdtype, np\u001b[38;5;241m.\u001b[39mnumber):\n\u001b[1;32m     95\u001b[0m     \u001b[38;5;66;03m# conversion of coords to 2D array failed, this might be due\u001b[39;00m\n\u001b[1;32m     96\u001b[0m     \u001b[38;5;66;03m# to inconsistent coordinate dimensionality\u001b[39;00m\n\u001b[1;32m     97\u001b[0m     \u001b[38;5;28;01mraise\u001b[39;00m \u001b[38;5;167;01mValueError\u001b[39;00m(\u001b[38;5;124m\"\u001b[39m\u001b[38;5;124mInconsistent coordinate dimensionality\u001b[39m\u001b[38;5;124m\"\u001b[39m)\n",
      "File \u001b[0;32m~/Desktop/Algo Wastetide/Roboflow_generator/venv/lib/python3.11/site-packages/shapely/geometry/polygon.py:93\u001b[0m, in \u001b[0;36m<listcomp>\u001b[0;34m(.0)\u001b[0m\n\u001b[1;32m     90\u001b[0m     \u001b[38;5;28;01melse\u001b[39;00m:\n\u001b[1;32m     91\u001b[0m         \u001b[38;5;28;01mreturn\u001b[39;00m [\u001b[38;5;28mfloat\u001b[39m(c) \u001b[38;5;28;01mfor\u001b[39;00m c \u001b[38;5;129;01min\u001b[39;00m o]\n\u001b[0;32m---> 93\u001b[0m coordinates \u001b[38;5;241m=\u001b[39m np\u001b[38;5;241m.\u001b[39marray([\u001b[43m_coords\u001b[49m\u001b[43m(\u001b[49m\u001b[43mo\u001b[49m\u001b[43m)\u001b[49m \u001b[38;5;28;01mfor\u001b[39;00m o \u001b[38;5;129;01min\u001b[39;00m coordinates])\n\u001b[1;32m     94\u001b[0m \u001b[38;5;28;01mif\u001b[39;00m \u001b[38;5;129;01mnot\u001b[39;00m np\u001b[38;5;241m.\u001b[39missubdtype(coordinates\u001b[38;5;241m.\u001b[39mdtype, np\u001b[38;5;241m.\u001b[39mnumber):\n\u001b[1;32m     95\u001b[0m     \u001b[38;5;66;03m# conversion of coords to 2D array failed, this might be due\u001b[39;00m\n\u001b[1;32m     96\u001b[0m     \u001b[38;5;66;03m# to inconsistent coordinate dimensionality\u001b[39;00m\n\u001b[1;32m     97\u001b[0m     \u001b[38;5;28;01mraise\u001b[39;00m \u001b[38;5;167;01mValueError\u001b[39;00m(\u001b[38;5;124m\"\u001b[39m\u001b[38;5;124mInconsistent coordinate dimensionality\u001b[39m\u001b[38;5;124m\"\u001b[39m)\n",
      "File \u001b[0;32m~/Desktop/Algo Wastetide/Roboflow_generator/venv/lib/python3.11/site-packages/shapely/geometry/polygon.py:87\u001b[0m, in \u001b[0;36mLinearRing.__new__.<locals>._coords\u001b[0;34m(o)\u001b[0m\n\u001b[1;32m     84\u001b[0m     \u001b[38;5;28;01mpass\u001b[39;00m\n\u001b[1;32m     85\u001b[0m \u001b[38;5;28;01melse\u001b[39;00m:\n\u001b[1;32m     86\u001b[0m     \u001b[38;5;66;03m# check coordinates on points\u001b[39;00m\n\u001b[0;32m---> 87\u001b[0m     \u001b[38;5;28;01mdef\u001b[39;00m \u001b[38;5;21m_coords\u001b[39m(o):\n\u001b[1;32m     88\u001b[0m         \u001b[38;5;28;01mif\u001b[39;00m \u001b[38;5;28misinstance\u001b[39m(o, Point):\n\u001b[1;32m     89\u001b[0m             \u001b[38;5;28;01mreturn\u001b[39;00m o\u001b[38;5;241m.\u001b[39mcoords[\u001b[38;5;241m0\u001b[39m]\n",
      "\u001b[0;31mKeyboardInterrupt\u001b[0m: "
     ]
    }
   ],
   "source": [
    "import scissors2\n",
    "from scissors2 import MagicScissors\n",
    "\n",
    "data = MagicScissors(\n",
    "    dataset_size=400,\n",
    "    min_objects_per_image=4,\n",
    "    max_objects_per_image=21,\n",
    "    min_size_variance=0.25,\n",
    "    max_size_variance=0.4,\n",
    "    annotate_occlusion=0,\n",
    "    working_dir=\"./\",\n",
    "    upload_to_roboflow=False,\n",
    "    roboflow_api_key=\"\",\n",
    "    roboflow_workspace=\"\",\n",
    "    roboflow_project=\"\",\n",
    ")\n",
    "\n",
    "data.download_objects_of_interest_from_roboflow(\n",
    "    url=\"https://universe.roboflow.com/wastetide/objects-of-interest-public/2\"\n",
    ")\n",
    "\n",
    "data.download_backgrounds_from_roboflow(\n",
    "    url=\"https://app.roboflow.com/wastetide/backgrounds-scswq/1\"\n",
    ")\n",
    "\n",
    "# generate dataset and save to directory\n",
    "data.generate_dataset()"
   ]
  },
  {
   "cell_type": "code",
   "execution_count": 60,
   "metadata": {},
   "outputs": [],
   "source": [
    "#We correct the json files for the data generated (the generator is now fixed for this issue)\n",
    "\n",
    "import json\n",
    "for i in range(1,801):\n",
    "    #we open the file in output/magic_scissors_2024-01-03_18-18 named {i}.jpeg.json\n",
    "\n",
    "    with open(f'output/magic_scissors_2024-01-03_18-18/{i}.jpeg.json') as f:\n",
    "        data = json.load(f)\n",
    "        image_name = data['images'][0]['file_name']\n",
    "\n",
    "        data['images'][0]['file_name'] = f'{i}.jpeg.jpg'\n",
    "\n",
    "        #now we save the file in output/magic_scissors_2024-01-03_18-18 named {i}.jpeg.json\n",
    "        with open(f'output/magic_scissors_2024-01-03_18-18/{i}.jpeg.json', 'w') as f:\n",
    "            json.dump(data, f)\n"
   ]
  }
 ],
 "metadata": {
  "kernelspec": {
   "display_name": "Python 3",
   "language": "python",
   "name": "python3"
  },
  "language_info": {
   "codemirror_mode": {
    "name": "ipython",
    "version": 3
   },
   "file_extension": ".py",
   "mimetype": "text/x-python",
   "name": "python",
   "nbconvert_exporter": "python",
   "pygments_lexer": "ipython3",
   "version": "3.11.3"
  }
 },
 "nbformat": 4,
 "nbformat_minor": 2
}

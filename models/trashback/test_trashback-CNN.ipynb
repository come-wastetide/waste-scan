def test_binary_search():
    # Test case 1: Target value found at index 2
    arr = [1, 3, 5, 7, 9]
    target = 5
    assert binary_search(arr, target) == 2

    # Test case 2: Target value found at index 0
    arr = [1, 3, 5, 7, 9]
    target = 1
    assert binary_search(arr, target) == 0

    # Test case 3: Target value found at index 4
    arr = [1, 3, 5, 7, 9]
    target = 9
    assert binary_search(arr, target) == 4

    # Test case 4: Target value not found
    arr = [1, 3, 5, 7, 9]
    target = 4
    assert binary_search(arr, target) == -1

    # Test case 5: Empty array
    arr = []
    target = 5
    assert binary_search(arr, target) == -1

    # Test case 6: Target value found at index 0 (single element array)
    arr = [5]
    target = 5
    assert binary_search(arr, target) == 0

    # Test case 7: Target value not found (single element array)
    arr = [5]
    target = 3
    assert binary_search(arr, target) == -1

def test_list_keys():
    # Test case 1: Empty folder
    bucket_name = "my-bucket"
    image_folder_key = "empty-folder/"
    assert list_keys(bucket_name, image_folder_key) == []

    # Test case 2: Folder with one image
    bucket_name = "my-bucket"
    image_folder_key = "folder-with-one-image/"
    expected_keys = ["image.jpg"]
    assert list_keys(bucket_name, image_folder_key) == expected_keys

    # Test case 3: Folder with multiple images
    bucket_name = "my-bucket"
    image_folder_key = "folder-with-multiple-images/"
    expected_keys = ["image1.jpg", "image2.jpg", "image3.jpg"]
    assert list_keys(bucket_name, image_folder_key) == expected_keys

    # Test case 4: Folder with subfolders
    bucket_name = "my-bucket"
    image_folder_key = "folder-with-subfolders/"
    expected_keys = ["subfolder1/image1.jpg", "subfolder2/image2.jpg"]
    assert list_keys(bucket_name, image_folder_key) == expected_keys

test_list_keys()def test_list_keys():
    # Test case 1: Empty list of keys
    bucket_name = "my-bucket"
    image_folder_key = "images/"
    assert list_keys(bucket_name, image_folder_key) == []

    # Test case 2: Single key in the list
    bucket_name = "my-bucket"
    image_folder_key = "images/"
    keys = ["images/image1.jpg"]
    assert list_keys(bucket_name, image_folder_key) == keys

    # Test case 3: Multiple keys in the list
    bucket_name = "my-bucket"
    image_folder_key = "images/"
    keys = ["images/image1.jpg", "images/image2.jpg", "images/image3.jpg"]
    assert list_keys(bucket_name, image_folder_key) == keys

    # Test case 4: No keys in the list
    bucket_name = "my-bucket"
    image_folder_key = "images/"
    keys = []
    assert list_keys(bucket_name, image_folder_key) == keys

test_list_keys()